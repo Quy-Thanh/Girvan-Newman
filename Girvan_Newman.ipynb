{
  "cells": [
    {
      "cell_type": "markdown",
      "metadata": {
        "id": "view-in-github",
        "colab_type": "text"
      },
      "source": [
        "<a href=\"https://colab.research.google.com/github/Quy-Thanh/Girvan-Newman/blob/main/Girvan_Newman.ipynb\" target=\"_parent\"><img src=\"https://colab.research.google.com/assets/colab-badge.svg\" alt=\"Open In Colab\"/></a>"
      ]
    },
    {
      "cell_type": "markdown",
      "source": [
        "\n",
        "\n",
        "#Tải dữ liệu lên"
      ],
      "metadata": {
        "id": "Kj1bVv9RQP_I"
      }
    },
    {
      "cell_type": "markdown",
      "source": [],
      "metadata": {
        "id": "4zkVfkgKQMxG"
      }
    },
    {
      "cell_type": "code",
      "execution_count": null,
      "metadata": {
        "colab": {
          "base_uri": "https://localhost:8080/",
          "height": 55
        },
        "id": "yyYKRDTd8wcI",
        "outputId": "ab5ec363-f458-4464-9b35-2c4d8847d7fd"
      },
      "outputs": [
        {
          "output_type": "display_data",
          "data": {
            "text/plain": [
              "<IPython.core.display.HTML object>"
            ],
            "text/html": [
              "\n",
              "     <input type=\"file\" id=\"files-5351d761-8f8f-4de2-a582-a254cafe8fc4\" name=\"files[]\" multiple disabled\n",
              "        style=\"border:none\" />\n",
              "     <output id=\"result-5351d761-8f8f-4de2-a582-a254cafe8fc4\">\n",
              "      Upload widget is only available when the cell has been executed in the\n",
              "      current browser session. Please rerun this cell to enable.\n",
              "      </output>\n",
              "      <script>// Copyright 2017 Google LLC\n",
              "//\n",
              "// Licensed under the Apache License, Version 2.0 (the \"License\");\n",
              "// you may not use this file except in compliance with the License.\n",
              "// You may obtain a copy of the License at\n",
              "//\n",
              "//      http://www.apache.org/licenses/LICENSE-2.0\n",
              "//\n",
              "// Unless required by applicable law or agreed to in writing, software\n",
              "// distributed under the License is distributed on an \"AS IS\" BASIS,\n",
              "// WITHOUT WARRANTIES OR CONDITIONS OF ANY KIND, either express or implied.\n",
              "// See the License for the specific language governing permissions and\n",
              "// limitations under the License.\n",
              "\n",
              "/**\n",
              " * @fileoverview Helpers for google.colab Python module.\n",
              " */\n",
              "(function(scope) {\n",
              "function span(text, styleAttributes = {}) {\n",
              "  const element = document.createElement('span');\n",
              "  element.textContent = text;\n",
              "  for (const key of Object.keys(styleAttributes)) {\n",
              "    element.style[key] = styleAttributes[key];\n",
              "  }\n",
              "  return element;\n",
              "}\n",
              "\n",
              "// Max number of bytes which will be uploaded at a time.\n",
              "const MAX_PAYLOAD_SIZE = 100 * 1024;\n",
              "\n",
              "function _uploadFiles(inputId, outputId) {\n",
              "  const steps = uploadFilesStep(inputId, outputId);\n",
              "  const outputElement = document.getElementById(outputId);\n",
              "  // Cache steps on the outputElement to make it available for the next call\n",
              "  // to uploadFilesContinue from Python.\n",
              "  outputElement.steps = steps;\n",
              "\n",
              "  return _uploadFilesContinue(outputId);\n",
              "}\n",
              "\n",
              "// This is roughly an async generator (not supported in the browser yet),\n",
              "// where there are multiple asynchronous steps and the Python side is going\n",
              "// to poll for completion of each step.\n",
              "// This uses a Promise to block the python side on completion of each step,\n",
              "// then passes the result of the previous step as the input to the next step.\n",
              "function _uploadFilesContinue(outputId) {\n",
              "  const outputElement = document.getElementById(outputId);\n",
              "  const steps = outputElement.steps;\n",
              "\n",
              "  const next = steps.next(outputElement.lastPromiseValue);\n",
              "  return Promise.resolve(next.value.promise).then((value) => {\n",
              "    // Cache the last promise value to make it available to the next\n",
              "    // step of the generator.\n",
              "    outputElement.lastPromiseValue = value;\n",
              "    return next.value.response;\n",
              "  });\n",
              "}\n",
              "\n",
              "/**\n",
              " * Generator function which is called between each async step of the upload\n",
              " * process.\n",
              " * @param {string} inputId Element ID of the input file picker element.\n",
              " * @param {string} outputId Element ID of the output display.\n",
              " * @return {!Iterable<!Object>} Iterable of next steps.\n",
              " */\n",
              "function* uploadFilesStep(inputId, outputId) {\n",
              "  const inputElement = document.getElementById(inputId);\n",
              "  inputElement.disabled = false;\n",
              "\n",
              "  const outputElement = document.getElementById(outputId);\n",
              "  outputElement.innerHTML = '';\n",
              "\n",
              "  const pickedPromise = new Promise((resolve) => {\n",
              "    inputElement.addEventListener('change', (e) => {\n",
              "      resolve(e.target.files);\n",
              "    });\n",
              "  });\n",
              "\n",
              "  const cancel = document.createElement('button');\n",
              "  inputElement.parentElement.appendChild(cancel);\n",
              "  cancel.textContent = 'Cancel upload';\n",
              "  const cancelPromise = new Promise((resolve) => {\n",
              "    cancel.onclick = () => {\n",
              "      resolve(null);\n",
              "    };\n",
              "  });\n",
              "\n",
              "  // Wait for the user to pick the files.\n",
              "  const files = yield {\n",
              "    promise: Promise.race([pickedPromise, cancelPromise]),\n",
              "    response: {\n",
              "      action: 'starting',\n",
              "    }\n",
              "  };\n",
              "\n",
              "  cancel.remove();\n",
              "\n",
              "  // Disable the input element since further picks are not allowed.\n",
              "  inputElement.disabled = true;\n",
              "\n",
              "  if (!files) {\n",
              "    return {\n",
              "      response: {\n",
              "        action: 'complete',\n",
              "      }\n",
              "    };\n",
              "  }\n",
              "\n",
              "  for (const file of files) {\n",
              "    const li = document.createElement('li');\n",
              "    li.append(span(file.name, {fontWeight: 'bold'}));\n",
              "    li.append(span(\n",
              "        `(${file.type || 'n/a'}) - ${file.size} bytes, ` +\n",
              "        `last modified: ${\n",
              "            file.lastModifiedDate ? file.lastModifiedDate.toLocaleDateString() :\n",
              "                                    'n/a'} - `));\n",
              "    const percent = span('0% done');\n",
              "    li.appendChild(percent);\n",
              "\n",
              "    outputElement.appendChild(li);\n",
              "\n",
              "    const fileDataPromise = new Promise((resolve) => {\n",
              "      const reader = new FileReader();\n",
              "      reader.onload = (e) => {\n",
              "        resolve(e.target.result);\n",
              "      };\n",
              "      reader.readAsArrayBuffer(file);\n",
              "    });\n",
              "    // Wait for the data to be ready.\n",
              "    let fileData = yield {\n",
              "      promise: fileDataPromise,\n",
              "      response: {\n",
              "        action: 'continue',\n",
              "      }\n",
              "    };\n",
              "\n",
              "    // Use a chunked sending to avoid message size limits. See b/62115660.\n",
              "    let position = 0;\n",
              "    do {\n",
              "      const length = Math.min(fileData.byteLength - position, MAX_PAYLOAD_SIZE);\n",
              "      const chunk = new Uint8Array(fileData, position, length);\n",
              "      position += length;\n",
              "\n",
              "      const base64 = btoa(String.fromCharCode.apply(null, chunk));\n",
              "      yield {\n",
              "        response: {\n",
              "          action: 'append',\n",
              "          file: file.name,\n",
              "          data: base64,\n",
              "        },\n",
              "      };\n",
              "\n",
              "      let percentDone = fileData.byteLength === 0 ?\n",
              "          100 :\n",
              "          Math.round((position / fileData.byteLength) * 100);\n",
              "      percent.textContent = `${percentDone}% done`;\n",
              "\n",
              "    } while (position < fileData.byteLength);\n",
              "  }\n",
              "\n",
              "  // All done.\n",
              "  yield {\n",
              "    response: {\n",
              "      action: 'complete',\n",
              "    }\n",
              "  };\n",
              "}\n",
              "\n",
              "scope.google = scope.google || {};\n",
              "scope.google.colab = scope.google.colab || {};\n",
              "scope.google.colab._files = {\n",
              "  _uploadFiles,\n",
              "  _uploadFilesContinue,\n",
              "};\n",
              "})(self);\n",
              "</script> "
            ]
          },
          "metadata": {}
        },
        {
          "output_type": "execute_result",
          "data": {
            "text/plain": [
              "{}"
            ]
          },
          "metadata": {},
          "execution_count": 5
        }
      ],
      "source": [
        "  from google.colab import files\n",
        "\n",
        "  files.upload()"
      ]
    },
    {
      "cell_type": "markdown",
      "source": [
        "#Gọi các thư viện và các hàm cần thiết"
      ],
      "metadata": {
        "id": "ELUeArBmQZkE"
      }
    },
    {
      "cell_type": "code",
      "source": [
        "import networkx as nx\n",
        "import plotly.graph_objects as go\n",
        "import matplotlib.pyplot as plt\n",
        "from networkx.algorithms.community import girvan_newman"
      ],
      "metadata": {
        "id": "dQpWz4HlQrpY"
      },
      "execution_count": null,
      "outputs": []
    },
    {
      "cell_type": "markdown",
      "source": [
        "#Đọc dữ liệu"
      ],
      "metadata": {
        "id": "nRgvkviRQza6"
      }
    },
    {
      "cell_type": "code",
      "execution_count": null,
      "metadata": {
        "id": "mzQAppBe-kvE",
        "colab": {
          "base_uri": "https://localhost:8080/",
          "height": 256
        },
        "outputId": "f5bec1e1-4aba-4279-ab71-dc2006bf90cf"
      },
      "outputs": [
        {
          "output_type": "error",
          "ename": "FileNotFoundError",
          "evalue": "ignored",
          "traceback": [
            "\u001b[0;31m---------------------------------------------------------------------------\u001b[0m",
            "\u001b[0;31mFileNotFoundError\u001b[0m                         Traceback (most recent call last)",
            "\u001b[0;32m<ipython-input-4-e90672a3241a>\u001b[0m in \u001b[0;36m<cell line: 5>\u001b[0;34m()\u001b[0m\n\u001b[1;32m      3\u001b[0m \u001b[0;34m\u001b[0m\u001b[0m\n\u001b[1;32m      4\u001b[0m \u001b[0;31m# Đọc dữ liệu từ tệp txt\u001b[0m\u001b[0;34m\u001b[0m\u001b[0;34m\u001b[0m\u001b[0m\n\u001b[0;32m----> 5\u001b[0;31m \u001b[0;32mwith\u001b[0m \u001b[0mopen\u001b[0m\u001b[0;34m(\u001b[0m\u001b[0;34m'Amazon0302.txt'\u001b[0m\u001b[0;34m,\u001b[0m \u001b[0;34m'r'\u001b[0m\u001b[0;34m)\u001b[0m \u001b[0;32mas\u001b[0m \u001b[0mfile\u001b[0m\u001b[0;34m:\u001b[0m\u001b[0;34m\u001b[0m\u001b[0;34m\u001b[0m\u001b[0m\n\u001b[0m\u001b[1;32m      6\u001b[0m     \u001b[0;32mfor\u001b[0m \u001b[0mline\u001b[0m \u001b[0;32min\u001b[0m \u001b[0mfile\u001b[0m\u001b[0;34m:\u001b[0m\u001b[0;34m\u001b[0m\u001b[0;34m\u001b[0m\u001b[0m\n\u001b[1;32m      7\u001b[0m         \u001b[0;31m# Bỏ qua các dòng bắt đầu bằng \"#\"\u001b[0m\u001b[0;34m\u001b[0m\u001b[0;34m\u001b[0m\u001b[0m\n",
            "\u001b[0;31mFileNotFoundError\u001b[0m: [Errno 2] No such file or directory: 'Amazon0302.txt'"
          ]
        }
      ],
      "source": [
        "# Khởi tạo đồ thị có hướng\n",
        "G = nx.DiGraph()\n",
        "\n",
        "# Đọc dữ liệu từ tệp txt\n",
        "with open('Amazon0302.txt', 'r') as file:\n",
        "    for line in file:\n",
        "        # Bỏ qua các dòng bắt đầu bằng \"#\"\n",
        "        if line.startswith(\"#\"):\n",
        "            continue\n",
        "\n",
        "        # Tách dòng thành các đỉnh (FromNodeId và ToNodeId)\n",
        "        from_node, to_node = map(int, line.strip().split())\n",
        "\n",
        "        # Thêm cạnh vào đồ thị\n",
        "        G.add_edge(from_node, to_node)\n",
        "\n",
        "# Kiểm tra số đỉnh và số cạnh trong đồ thị\n",
        "num_nodes = G.number_of_nodes()\n",
        "num_edges = G.number_of_edges()\n",
        "print(f\"Số đỉnh: {num_nodes}\")\n",
        "print(f\"Số cạnh: {num_edges}\")\n"
      ]
    },
    {
      "cell_type": "markdown",
      "source": [
        "#Thực hiện thuật toán Girvan Newman trên đồ thị G"
      ],
      "metadata": {
        "id": "sDiRJRz6RFj1"
      }
    },
    {
      "cell_type": "code",
      "source": [
        "# Thực hiện thuật toán Girvan-Newman\n",
        "comp = girvan_newman(G)\n",
        "\n",
        "# Lấy cộng đồng kết quả (có thể lặp qua để chọn K cộng đồng)\n",
        "communities = tuple(sorted(c) for c in next(comp))"
      ],
      "metadata": {
        "id": "mh1Nk6XFPmPD",
        "colab": {
          "base_uri": "https://localhost:8080/",
          "height": 256
        },
        "outputId": "606094dc-b049-4b8b-fd39-6cef4488bba8"
      },
      "execution_count": null,
      "outputs": [
        {
          "output_type": "error",
          "ename": "NameError",
          "evalue": "ignored",
          "traceback": [
            "\u001b[0;31m---------------------------------------------------------------------------\u001b[0m",
            "\u001b[0;31mNameError\u001b[0m                                 Traceback (most recent call last)",
            "\u001b[0;32m<ipython-input-2-03751de9702c>\u001b[0m in \u001b[0;36m<cell line: 2>\u001b[0;34m()\u001b[0m\n\u001b[1;32m      1\u001b[0m \u001b[0;31m# Thực hiện thuật toán Girvan-Newman\u001b[0m\u001b[0;34m\u001b[0m\u001b[0;34m\u001b[0m\u001b[0m\n\u001b[0;32m----> 2\u001b[0;31m \u001b[0mcomp\u001b[0m \u001b[0;34m=\u001b[0m \u001b[0mgirvan_newman\u001b[0m\u001b[0;34m(\u001b[0m\u001b[0mG\u001b[0m\u001b[0;34m)\u001b[0m\u001b[0;34m\u001b[0m\u001b[0;34m\u001b[0m\u001b[0m\n\u001b[0m\u001b[1;32m      3\u001b[0m \u001b[0;34m\u001b[0m\u001b[0m\n\u001b[1;32m      4\u001b[0m \u001b[0;31m# Lấy cộng đồng kết quả (có thể lặp qua để chọn K cộng đồng)\u001b[0m\u001b[0;34m\u001b[0m\u001b[0;34m\u001b[0m\u001b[0m\n\u001b[1;32m      5\u001b[0m \u001b[0mcommunities\u001b[0m \u001b[0;34m=\u001b[0m \u001b[0mtuple\u001b[0m\u001b[0;34m(\u001b[0m\u001b[0msorted\u001b[0m\u001b[0;34m(\u001b[0m\u001b[0mc\u001b[0m\u001b[0;34m)\u001b[0m \u001b[0;32mfor\u001b[0m \u001b[0mc\u001b[0m \u001b[0;32min\u001b[0m \u001b[0mnext\u001b[0m\u001b[0;34m(\u001b[0m\u001b[0mcomp\u001b[0m\u001b[0;34m)\u001b[0m\u001b[0;34m)\u001b[0m\u001b[0;34m\u001b[0m\u001b[0;34m\u001b[0m\u001b[0m\n",
            "\u001b[0;31mNameError\u001b[0m: name 'girvan_newman' is not defined"
          ]
        }
      ]
    },
    {
      "cell_type": "markdown",
      "source": [
        "#In ra các cộng đồng là kết quả của thuật toán trên"
      ],
      "metadata": {
        "id": "KWtzgj8jRJVK"
      }
    },
    {
      "cell_type": "code",
      "source": [
        "# In các cộng đồng ra\n",
        "print(\"Các cộng đồng:\")\n",
        "for i, community in enumerate(communities):\n",
        "    print(f\"Cộng đồng {i + 1}: {community}\")"
      ],
      "metadata": {
        "colab": {
          "base_uri": "https://localhost:8080/"
        },
        "id": "LGVfrF5bPtnL",
        "outputId": "39c02e91-c8ab-4a17-e8df-4df15be2cf65"
      },
      "execution_count": null,
      "outputs": [
        {
          "output_type": "stream",
          "name": "stdout",
          "text": [
            "Các cộng đồng:\n",
            "Cộng đồng 1: [0, 1, 2, 4, 5, 6, 7, 8, 9, 10, 11, 12, 13, 14, 15, 16, 17, 18, 19, 20, 21, 22, 23, 24, 25, 26, 28, 29, 30, 31, 32, 33, 34, 35, 36, 68, 69, 70, 71, 72, 73, 74, 75, 77, 137, 138, 139, 140, 141, 164, 260, 261, 262, 290]\n",
            "Cộng đồng 2: [3, 63, 64, 65, 66, 67]\n"
          ]
        }
      ]
    },
    {
      "cell_type": "markdown",
      "source": [
        "#Biểu diễn cơ cấu cộng đồng dưới dạng biểu đồ tròn"
      ],
      "metadata": {
        "id": "JOeP_ZBjRoXZ"
      }
    },
    {
      "cell_type": "code",
      "source": [
        "# Biểu diễn kết quả bằng biểu đồ tròn\n",
        "labels = [f'Cộng đồng {i + 1}' for i in range(len(communities))]\n",
        "sizes = [len(community) for community in communities]\n",
        "\n",
        "# Tạo biểu đồ\n",
        "fig = go.Figure()\n",
        "\n",
        "# Thêm dữ liệu vào biểu đồ\n",
        "fig.add_trace(go.Pie(labels=labels, values=sizes, hole=.3))\n",
        "\n",
        "# Cập nhật bố cục biểu đồ\n",
        "fig.update_layout(title='Biểu đồ tròn phân tích cộng đồng',\n",
        "                   font_size=12)\n",
        "\n",
        "# Hiển thị biểu đồ\n",
        "fig.show()"
      ],
      "metadata": {
        "colab": {
          "base_uri": "https://localhost:8080/",
          "height": 256
        },
        "id": "4Ct0HkdVP27j",
        "outputId": "65247073-deda-4f2a-c1ee-0b0f421c1da8"
      },
      "execution_count": null,
      "outputs": [
        {
          "output_type": "error",
          "ename": "NameError",
          "evalue": "ignored",
          "traceback": [
            "\u001b[0;31m---------------------------------------------------------------------------\u001b[0m",
            "\u001b[0;31mNameError\u001b[0m                                 Traceback (most recent call last)",
            "\u001b[0;32m<ipython-input-1-ce736f64afeb>\u001b[0m in \u001b[0;36m<cell line: 2>\u001b[0;34m()\u001b[0m\n\u001b[1;32m      1\u001b[0m \u001b[0;31m# Biểu diễn kết quả bằng biểu đồ tròn\u001b[0m\u001b[0;34m\u001b[0m\u001b[0;34m\u001b[0m\u001b[0m\n\u001b[0;32m----> 2\u001b[0;31m \u001b[0mlabels\u001b[0m \u001b[0;34m=\u001b[0m \u001b[0;34m[\u001b[0m\u001b[0;34mf'Cộng đồng {i + 1}'\u001b[0m \u001b[0;32mfor\u001b[0m \u001b[0mi\u001b[0m \u001b[0;32min\u001b[0m \u001b[0mrange\u001b[0m\u001b[0;34m(\u001b[0m\u001b[0mlen\u001b[0m\u001b[0;34m(\u001b[0m\u001b[0mcommunities\u001b[0m\u001b[0;34m)\u001b[0m\u001b[0;34m)\u001b[0m\u001b[0;34m]\u001b[0m\u001b[0;34m\u001b[0m\u001b[0;34m\u001b[0m\u001b[0m\n\u001b[0m\u001b[1;32m      3\u001b[0m \u001b[0msizes\u001b[0m \u001b[0;34m=\u001b[0m \u001b[0;34m[\u001b[0m\u001b[0mlen\u001b[0m\u001b[0;34m(\u001b[0m\u001b[0mcommunity\u001b[0m\u001b[0;34m)\u001b[0m \u001b[0;32mfor\u001b[0m \u001b[0mcommunity\u001b[0m \u001b[0;32min\u001b[0m \u001b[0mcommunities\u001b[0m\u001b[0;34m]\u001b[0m\u001b[0;34m\u001b[0m\u001b[0;34m\u001b[0m\u001b[0m\n\u001b[1;32m      4\u001b[0m \u001b[0;34m\u001b[0m\u001b[0m\n\u001b[1;32m      5\u001b[0m \u001b[0;31m# Tạo biểu đồ\u001b[0m\u001b[0;34m\u001b[0m\u001b[0;34m\u001b[0m\u001b[0m\n",
            "\u001b[0;31mNameError\u001b[0m: name 'communities' is not defined"
          ]
        }
      ]
    },
    {
      "cell_type": "markdown",
      "source": [
        "#Biểu diễn các cộng đồng dưới dạng biểu đồ mạng tương tác"
      ],
      "metadata": {
        "id": "XmwKM_Y4SdI0"
      }
    },
    {
      "cell_type": "code",
      "source": [
        "# Tạo đồ thị Plotly\n",
        "edge_x = []\n",
        "edge_y = []\n",
        "for edge in G.edges():\n",
        "    edge_x.append(edge[0])\n",
        "    edge_y.append(edge[1])\n",
        "\n",
        "edge_trace = go.Scatter(\n",
        "    x=edge_x,\n",
        "    y=edge_y,\n",
        "    line=dict(width=0.5, color='#888'),\n",
        "    hoverinfo='none',\n",
        "    mode='lines')\n",
        "\n",
        "node_x = []\n",
        "node_y = []\n",
        "for node in G.nodes():\n",
        "    node_x.append(node)\n",
        "    node_y.append(node)\n",
        "\n",
        "node_trace = go.Scatter(\n",
        "    x=node_x,\n",
        "    y=node_y,\n",
        "    mode='markers',\n",
        "    marker=dict(symbol='circle', size=10, color='#666'),\n",
        "    hoverinfo='text',\n",
        "    text=list(G.nodes()))\n",
        "\n",
        "layout = go.Layout(\n",
        "    title='Interactive Graph',\n",
        "    hovermode='closest'\n",
        ")\n",
        "\n",
        "fig = go.Figure(data=[edge_trace, node_trace], layout=layout)\n",
        "\n",
        "# Hiển thị đồ thị\n",
        "fig.show()"
      ],
      "metadata": {
        "colab": {
          "base_uri": "https://localhost:8080/",
          "height": 542
        },
        "id": "g2OhoI8MPDpv",
        "outputId": "1cd54187-47fa-4b69-d7bd-e5e8c429e88d"
      },
      "execution_count": null,
      "outputs": [
        {
          "output_type": "display_data",
          "data": {
            "text/html": [
              "<html>\n",
              "<head><meta charset=\"utf-8\" /></head>\n",
              "<body>\n",
              "    <div>            <script src=\"https://cdnjs.cloudflare.com/ajax/libs/mathjax/2.7.5/MathJax.js?config=TeX-AMS-MML_SVG\"></script><script type=\"text/javascript\">if (window.MathJax && window.MathJax.Hub && window.MathJax.Hub.Config) {window.MathJax.Hub.Config({SVG: {font: \"STIX-Web\"}});}</script>                <script type=\"text/javascript\">window.PlotlyConfig = {MathJaxConfig: 'local'};</script>\n",
              "        <script charset=\"utf-8\" src=\"https://cdn.plot.ly/plotly-2.24.1.min.js\"></script>                <div id=\"88f32914-112b-460a-bdbf-971819e331ef\" class=\"plotly-graph-div\" style=\"height:525px; width:100%;\"></div>            <script type=\"text/javascript\">                                    window.PLOTLYENV=window.PLOTLYENV || {};                                    if (document.getElementById(\"88f32914-112b-460a-bdbf-971819e331ef\")) {                    Plotly.newPlot(                        \"88f32914-112b-460a-bdbf-971819e331ef\",                        [{\"hoverinfo\":\"none\",\"line\":{\"color\":\"#888\",\"width\":0.5},\"mode\":\"lines\",\"x\":[0,0,0,0,0,1,1,1,1,1,2,2,2,2,2,3,3,3,3,3,4,4,4,4,4,5,5,5,5,5,15,15,15,15,15,11,11,11,11,11,12,12,12,12,13,13,13,13,14,14,14,14,7,7,7,7,7,16,16,16,16,16,17,17,17,17,17,18,18,18,18,18,19,19,19,19,19,6,6,6,6,6,8,8,8,8,8,10,10,10,10,10,20,20,20,20,20,21,21,21,21,21],\"y\":[1,2,3,4,5,0,2,4,5,15,0,11,12,13,14,63,64,65,66,67,7,16,17,18,19,6,7,8,9,10,68,69,70,71,72,6,9,20,25,26,260,261,262,26,21,23,140,141,13,21,28,29,5,8,9,30,290,4,7,19,73,75,6,7,8,30,31,32,33,34,35,36,4,16,73,74,75,5,7,8,9,20,13,21,22,23,24,5,7,137,138,139,6,7,8,23,30,13,23,28,77,164],\"type\":\"scatter\"},{\"hoverinfo\":\"text\",\"marker\":{\"color\":\"#666\",\"size\":10,\"symbol\":\"circle\"},\"mode\":\"markers\",\"text\":[\"0\",\"1\",\"2\",\"3\",\"4\",\"5\",\"15\",\"11\",\"12\",\"13\",\"14\",\"63\",\"64\",\"65\",\"66\",\"67\",\"7\",\"16\",\"17\",\"18\",\"19\",\"6\",\"8\",\"9\",\"10\",\"20\",\"30\",\"290\",\"21\",\"22\",\"23\",\"24\",\"137\",\"138\",\"139\",\"25\",\"26\",\"260\",\"261\",\"262\",\"140\",\"141\",\"28\",\"29\",\"68\",\"69\",\"70\",\"71\",\"72\",\"73\",\"75\",\"31\",\"32\",\"33\",\"34\",\"35\",\"36\",\"74\",\"77\",\"164\"],\"x\":[0,1,2,3,4,5,15,11,12,13,14,63,64,65,66,67,7,16,17,18,19,6,8,9,10,20,30,290,21,22,23,24,137,138,139,25,26,260,261,262,140,141,28,29,68,69,70,71,72,73,75,31,32,33,34,35,36,74,77,164],\"y\":[0,1,2,3,4,5,15,11,12,13,14,63,64,65,66,67,7,16,17,18,19,6,8,9,10,20,30,290,21,22,23,24,137,138,139,25,26,260,261,262,140,141,28,29,68,69,70,71,72,73,75,31,32,33,34,35,36,74,77,164],\"type\":\"scatter\"}],                        {\"hovermode\":\"closest\",\"title\":{\"text\":\"Interactive Graph\"},\"template\":{\"data\":{\"histogram2dcontour\":[{\"type\":\"histogram2dcontour\",\"colorbar\":{\"outlinewidth\":0,\"ticks\":\"\"},\"colorscale\":[[0.0,\"#0d0887\"],[0.1111111111111111,\"#46039f\"],[0.2222222222222222,\"#7201a8\"],[0.3333333333333333,\"#9c179e\"],[0.4444444444444444,\"#bd3786\"],[0.5555555555555556,\"#d8576b\"],[0.6666666666666666,\"#ed7953\"],[0.7777777777777778,\"#fb9f3a\"],[0.8888888888888888,\"#fdca26\"],[1.0,\"#f0f921\"]]}],\"choropleth\":[{\"type\":\"choropleth\",\"colorbar\":{\"outlinewidth\":0,\"ticks\":\"\"}}],\"histogram2d\":[{\"type\":\"histogram2d\",\"colorbar\":{\"outlinewidth\":0,\"ticks\":\"\"},\"colorscale\":[[0.0,\"#0d0887\"],[0.1111111111111111,\"#46039f\"],[0.2222222222222222,\"#7201a8\"],[0.3333333333333333,\"#9c179e\"],[0.4444444444444444,\"#bd3786\"],[0.5555555555555556,\"#d8576b\"],[0.6666666666666666,\"#ed7953\"],[0.7777777777777778,\"#fb9f3a\"],[0.8888888888888888,\"#fdca26\"],[1.0,\"#f0f921\"]]}],\"heatmap\":[{\"type\":\"heatmap\",\"colorbar\":{\"outlinewidth\":0,\"ticks\":\"\"},\"colorscale\":[[0.0,\"#0d0887\"],[0.1111111111111111,\"#46039f\"],[0.2222222222222222,\"#7201a8\"],[0.3333333333333333,\"#9c179e\"],[0.4444444444444444,\"#bd3786\"],[0.5555555555555556,\"#d8576b\"],[0.6666666666666666,\"#ed7953\"],[0.7777777777777778,\"#fb9f3a\"],[0.8888888888888888,\"#fdca26\"],[1.0,\"#f0f921\"]]}],\"heatmapgl\":[{\"type\":\"heatmapgl\",\"colorbar\":{\"outlinewidth\":0,\"ticks\":\"\"},\"colorscale\":[[0.0,\"#0d0887\"],[0.1111111111111111,\"#46039f\"],[0.2222222222222222,\"#7201a8\"],[0.3333333333333333,\"#9c179e\"],[0.4444444444444444,\"#bd3786\"],[0.5555555555555556,\"#d8576b\"],[0.6666666666666666,\"#ed7953\"],[0.7777777777777778,\"#fb9f3a\"],[0.8888888888888888,\"#fdca26\"],[1.0,\"#f0f921\"]]}],\"contourcarpet\":[{\"type\":\"contourcarpet\",\"colorbar\":{\"outlinewidth\":0,\"ticks\":\"\"}}],\"contour\":[{\"type\":\"contour\",\"colorbar\":{\"outlinewidth\":0,\"ticks\":\"\"},\"colorscale\":[[0.0,\"#0d0887\"],[0.1111111111111111,\"#46039f\"],[0.2222222222222222,\"#7201a8\"],[0.3333333333333333,\"#9c179e\"],[0.4444444444444444,\"#bd3786\"],[0.5555555555555556,\"#d8576b\"],[0.6666666666666666,\"#ed7953\"],[0.7777777777777778,\"#fb9f3a\"],[0.8888888888888888,\"#fdca26\"],[1.0,\"#f0f921\"]]}],\"surface\":[{\"type\":\"surface\",\"colorbar\":{\"outlinewidth\":0,\"ticks\":\"\"},\"colorscale\":[[0.0,\"#0d0887\"],[0.1111111111111111,\"#46039f\"],[0.2222222222222222,\"#7201a8\"],[0.3333333333333333,\"#9c179e\"],[0.4444444444444444,\"#bd3786\"],[0.5555555555555556,\"#d8576b\"],[0.6666666666666666,\"#ed7953\"],[0.7777777777777778,\"#fb9f3a\"],[0.8888888888888888,\"#fdca26\"],[1.0,\"#f0f921\"]]}],\"mesh3d\":[{\"type\":\"mesh3d\",\"colorbar\":{\"outlinewidth\":0,\"ticks\":\"\"}}],\"scatter\":[{\"fillpattern\":{\"fillmode\":\"overlay\",\"size\":10,\"solidity\":0.2},\"type\":\"scatter\"}],\"parcoords\":[{\"type\":\"parcoords\",\"line\":{\"colorbar\":{\"outlinewidth\":0,\"ticks\":\"\"}}}],\"scatterpolargl\":[{\"type\":\"scatterpolargl\",\"marker\":{\"colorbar\":{\"outlinewidth\":0,\"ticks\":\"\"}}}],\"bar\":[{\"error_x\":{\"color\":\"#2a3f5f\"},\"error_y\":{\"color\":\"#2a3f5f\"},\"marker\":{\"line\":{\"color\":\"#E5ECF6\",\"width\":0.5},\"pattern\":{\"fillmode\":\"overlay\",\"size\":10,\"solidity\":0.2}},\"type\":\"bar\"}],\"scattergeo\":[{\"type\":\"scattergeo\",\"marker\":{\"colorbar\":{\"outlinewidth\":0,\"ticks\":\"\"}}}],\"scatterpolar\":[{\"type\":\"scatterpolar\",\"marker\":{\"colorbar\":{\"outlinewidth\":0,\"ticks\":\"\"}}}],\"histogram\":[{\"marker\":{\"pattern\":{\"fillmode\":\"overlay\",\"size\":10,\"solidity\":0.2}},\"type\":\"histogram\"}],\"scattergl\":[{\"type\":\"scattergl\",\"marker\":{\"colorbar\":{\"outlinewidth\":0,\"ticks\":\"\"}}}],\"scatter3d\":[{\"type\":\"scatter3d\",\"line\":{\"colorbar\":{\"outlinewidth\":0,\"ticks\":\"\"}},\"marker\":{\"colorbar\":{\"outlinewidth\":0,\"ticks\":\"\"}}}],\"scattermapbox\":[{\"type\":\"scattermapbox\",\"marker\":{\"colorbar\":{\"outlinewidth\":0,\"ticks\":\"\"}}}],\"scatterternary\":[{\"type\":\"scatterternary\",\"marker\":{\"colorbar\":{\"outlinewidth\":0,\"ticks\":\"\"}}}],\"scattercarpet\":[{\"type\":\"scattercarpet\",\"marker\":{\"colorbar\":{\"outlinewidth\":0,\"ticks\":\"\"}}}],\"carpet\":[{\"aaxis\":{\"endlinecolor\":\"#2a3f5f\",\"gridcolor\":\"white\",\"linecolor\":\"white\",\"minorgridcolor\":\"white\",\"startlinecolor\":\"#2a3f5f\"},\"baxis\":{\"endlinecolor\":\"#2a3f5f\",\"gridcolor\":\"white\",\"linecolor\":\"white\",\"minorgridcolor\":\"white\",\"startlinecolor\":\"#2a3f5f\"},\"type\":\"carpet\"}],\"table\":[{\"cells\":{\"fill\":{\"color\":\"#EBF0F8\"},\"line\":{\"color\":\"white\"}},\"header\":{\"fill\":{\"color\":\"#C8D4E3\"},\"line\":{\"color\":\"white\"}},\"type\":\"table\"}],\"barpolar\":[{\"marker\":{\"line\":{\"color\":\"#E5ECF6\",\"width\":0.5},\"pattern\":{\"fillmode\":\"overlay\",\"size\":10,\"solidity\":0.2}},\"type\":\"barpolar\"}],\"pie\":[{\"automargin\":true,\"type\":\"pie\"}]},\"layout\":{\"autotypenumbers\":\"strict\",\"colorway\":[\"#636efa\",\"#EF553B\",\"#00cc96\",\"#ab63fa\",\"#FFA15A\",\"#19d3f3\",\"#FF6692\",\"#B6E880\",\"#FF97FF\",\"#FECB52\"],\"font\":{\"color\":\"#2a3f5f\"},\"hovermode\":\"closest\",\"hoverlabel\":{\"align\":\"left\"},\"paper_bgcolor\":\"white\",\"plot_bgcolor\":\"#E5ECF6\",\"polar\":{\"bgcolor\":\"#E5ECF6\",\"angularaxis\":{\"gridcolor\":\"white\",\"linecolor\":\"white\",\"ticks\":\"\"},\"radialaxis\":{\"gridcolor\":\"white\",\"linecolor\":\"white\",\"ticks\":\"\"}},\"ternary\":{\"bgcolor\":\"#E5ECF6\",\"aaxis\":{\"gridcolor\":\"white\",\"linecolor\":\"white\",\"ticks\":\"\"},\"baxis\":{\"gridcolor\":\"white\",\"linecolor\":\"white\",\"ticks\":\"\"},\"caxis\":{\"gridcolor\":\"white\",\"linecolor\":\"white\",\"ticks\":\"\"}},\"coloraxis\":{\"colorbar\":{\"outlinewidth\":0,\"ticks\":\"\"}},\"colorscale\":{\"sequential\":[[0.0,\"#0d0887\"],[0.1111111111111111,\"#46039f\"],[0.2222222222222222,\"#7201a8\"],[0.3333333333333333,\"#9c179e\"],[0.4444444444444444,\"#bd3786\"],[0.5555555555555556,\"#d8576b\"],[0.6666666666666666,\"#ed7953\"],[0.7777777777777778,\"#fb9f3a\"],[0.8888888888888888,\"#fdca26\"],[1.0,\"#f0f921\"]],\"sequentialminus\":[[0.0,\"#0d0887\"],[0.1111111111111111,\"#46039f\"],[0.2222222222222222,\"#7201a8\"],[0.3333333333333333,\"#9c179e\"],[0.4444444444444444,\"#bd3786\"],[0.5555555555555556,\"#d8576b\"],[0.6666666666666666,\"#ed7953\"],[0.7777777777777778,\"#fb9f3a\"],[0.8888888888888888,\"#fdca26\"],[1.0,\"#f0f921\"]],\"diverging\":[[0,\"#8e0152\"],[0.1,\"#c51b7d\"],[0.2,\"#de77ae\"],[0.3,\"#f1b6da\"],[0.4,\"#fde0ef\"],[0.5,\"#f7f7f7\"],[0.6,\"#e6f5d0\"],[0.7,\"#b8e186\"],[0.8,\"#7fbc41\"],[0.9,\"#4d9221\"],[1,\"#276419\"]]},\"xaxis\":{\"gridcolor\":\"white\",\"linecolor\":\"white\",\"ticks\":\"\",\"title\":{\"standoff\":15},\"zerolinecolor\":\"white\",\"automargin\":true,\"zerolinewidth\":2},\"yaxis\":{\"gridcolor\":\"white\",\"linecolor\":\"white\",\"ticks\":\"\",\"title\":{\"standoff\":15},\"zerolinecolor\":\"white\",\"automargin\":true,\"zerolinewidth\":2},\"scene\":{\"xaxis\":{\"backgroundcolor\":\"#E5ECF6\",\"gridcolor\":\"white\",\"linecolor\":\"white\",\"showbackground\":true,\"ticks\":\"\",\"zerolinecolor\":\"white\",\"gridwidth\":2},\"yaxis\":{\"backgroundcolor\":\"#E5ECF6\",\"gridcolor\":\"white\",\"linecolor\":\"white\",\"showbackground\":true,\"ticks\":\"\",\"zerolinecolor\":\"white\",\"gridwidth\":2},\"zaxis\":{\"backgroundcolor\":\"#E5ECF6\",\"gridcolor\":\"white\",\"linecolor\":\"white\",\"showbackground\":true,\"ticks\":\"\",\"zerolinecolor\":\"white\",\"gridwidth\":2}},\"shapedefaults\":{\"line\":{\"color\":\"#2a3f5f\"}},\"annotationdefaults\":{\"arrowcolor\":\"#2a3f5f\",\"arrowhead\":0,\"arrowwidth\":1},\"geo\":{\"bgcolor\":\"white\",\"landcolor\":\"#E5ECF6\",\"subunitcolor\":\"white\",\"showland\":true,\"showlakes\":true,\"lakecolor\":\"white\"},\"title\":{\"x\":0.05},\"mapbox\":{\"style\":\"light\"}}}},                        {\"responsive\": true}                    ).then(function(){\n",
              "                            \n",
              "var gd = document.getElementById('88f32914-112b-460a-bdbf-971819e331ef');\n",
              "var x = new MutationObserver(function (mutations, observer) {{\n",
              "        var display = window.getComputedStyle(gd).display;\n",
              "        if (!display || display === 'none') {{\n",
              "            console.log([gd, 'removed!']);\n",
              "            Plotly.purge(gd);\n",
              "            observer.disconnect();\n",
              "        }}\n",
              "}});\n",
              "\n",
              "// Listen for the removal of the full notebook cells\n",
              "var notebookContainer = gd.closest('#notebook-container');\n",
              "if (notebookContainer) {{\n",
              "    x.observe(notebookContainer, {childList: true});\n",
              "}}\n",
              "\n",
              "// Listen for the clearing of the current output cell\n",
              "var outputEl = gd.closest('.output');\n",
              "if (outputEl) {{\n",
              "    x.observe(outputEl, {childList: true});\n",
              "}}\n",
              "\n",
              "                        })                };                            </script>        </div>\n",
              "</body>\n",
              "</html>"
            ]
          },
          "metadata": {}
        }
      ]
    },
    {
      "cell_type": "code",
      "source": [
        "# Tạo biểu đồ mạng với Plotly\n",
        "edge_x = []\n",
        "edge_y = []\n",
        "for edge in G.edges():\n",
        "    x0, y0 = pos[edge[0]]\n",
        "    x1, y1 = pos[edge[1]]\n",
        "    edge_x.extend([x0, x1, None])\n",
        "    edge_y.extend([y0, y1, None])\n",
        "\n",
        "edge_trace = go.Scatter(\n",
        "    x=edge_x, y=edge_y,\n",
        "    line=dict(width=0.5, color='#888'),\n",
        "    hoverinfo='none',\n",
        "    mode='lines')\n",
        "\n",
        "node_x = []\n",
        "node_y = []\n",
        "node_text = []  # Danh sách chứa nội dung để hiển thị khi hover\n",
        "for node in G.nodes():\n",
        "    x, y = pos[node]\n",
        "    node_x.append(x)\n",
        "    node_y.append(y)\n",
        "    node_text.append(str(node))  # Chuyển đỉnh thành chuỗi để hiển thị\n",
        "\n",
        "node_trace = go.Scatter(\n",
        "    x=node_x, y=node_y,\n",
        "    text=node_text,  # Sử dụng node_text để hiển thị nội dung khi hover\n",
        "    mode='markers',\n",
        "    hoverinfo='text',\n",
        "    marker=dict(\n",
        "        showscale=True,\n",
        "        colorscale='YlGnBu',\n",
        "        size=10,\n",
        "        colorbar=dict(thickness=15, title='Node Connections'),\n",
        "        line_width=2))\n",
        "\n",
        "node_trace.marker.color = 2 * len(G.edges)\n",
        "\n",
        "fig = go.Figure(data=[edge_trace, node_trace],\n",
        "                layout=go.Layout(\n",
        "                showlegend=False,\n",
        "                hovermode='closest',\n",
        "                margin=dict(b=0,l=0,r=0,t=0),\n",
        "                xaxis=dict(showgrid=False, zeroline=False, showticklabels=False),\n",
        "                yaxis=dict(showgrid=False, zeroline=False, showticklabels=False)))\n",
        "\n",
        "fig.show()"
      ],
      "metadata": {
        "colab": {
          "base_uri": "https://localhost:8080/",
          "height": 542
        },
        "id": "z3zM0H-ATcif",
        "outputId": "5458e215-e4f8-4e82-9bd1-60c7865c05d4"
      },
      "execution_count": null,
      "outputs": [
        {
          "output_type": "display_data",
          "data": {
            "text/html": [
              "<html>\n",
              "<head><meta charset=\"utf-8\" /></head>\n",
              "<body>\n",
              "    <div>            <script src=\"https://cdnjs.cloudflare.com/ajax/libs/mathjax/2.7.5/MathJax.js?config=TeX-AMS-MML_SVG\"></script><script type=\"text/javascript\">if (window.MathJax && window.MathJax.Hub && window.MathJax.Hub.Config) {window.MathJax.Hub.Config({SVG: {font: \"STIX-Web\"}});}</script>                <script type=\"text/javascript\">window.PlotlyConfig = {MathJaxConfig: 'local'};</script>\n",
              "        <script charset=\"utf-8\" src=\"https://cdn.plot.ly/plotly-2.24.1.min.js\"></script>                <div id=\"bcce0611-0a50-4d7e-a632-f210d3219b1a\" class=\"plotly-graph-div\" style=\"height:525px; width:100%;\"></div>            <script type=\"text/javascript\">                                    window.PLOTLYENV=window.PLOTLYENV || {};                                    if (document.getElementById(\"bcce0611-0a50-4d7e-a632-f210d3219b1a\")) {                    Plotly.newPlot(                        \"bcce0611-0a50-4d7e-a632-f210d3219b1a\",                        [{\"hoverinfo\":\"none\",\"line\":{\"color\":\"#888\",\"width\":0.5},\"mode\":\"lines\",\"x\":[0.032458720598839565,-0.0011304146401990712,null,0.032458720598839565,-0.1929375856148917,null,0.032458720598839565,0.04910656143714053,null,0.032458720598839565,0.14763870543913077,null,0.032458720598839565,0.19724089203712028,null,-0.0011304146401990712,0.032458720598839565,null,-0.0011304146401990712,-0.1929375856148917,null,-0.0011304146401990712,0.14763870543913077,null,-0.0011304146401990712,0.19724089203712028,null,-0.0011304146401990712,-0.1524673952089166,null,-0.1929375856148917,0.032458720598839565,null,-0.1929375856148917,-0.21342749736485073,null,-0.1929375856148917,-0.4955747707105489,null,-0.1929375856148917,-0.46872857463330336,null,-0.1929375856148917,0.15592476694609234,null,0.04910656143714053,-0.5486416592877525,null,0.04910656143714053,-0.7670372041687384,null,0.04910656143714053,0.7579105374378026,null,0.04910656143714053,0.9390943191945038,null,0.04910656143714053,-0.05019129781652927,null,0.14763870543913077,0.3374571806808774,null,0.14763870543913077,-0.14324417844361695,null,0.14763870543913077,0.3919980174291456,null,0.14763870543913077,0.16510570180715398,null,0.14763870543913077,0.021205332740549098,null,0.19724089203712028,0.15921619976034024,null,0.19724089203712028,0.3374571806808774,null,0.19724089203712028,-0.26627127779633386,null,0.19724089203712028,0.5749677770531544,null,0.19724089203712028,0.31473190717719923,null,-0.1524673952089166,-0.07538365156172505,null,-0.1524673952089166,0.07514622153088478,null,-0.1524673952089166,0.4138201897861175,null,-0.1524673952089166,-0.826946116077845,null,-0.1524673952089166,-0.5308580197133707,null,-0.21342749736485073,0.15921619976034024,null,-0.21342749736485073,0.5749677770531544,null,-0.21342749736485073,0.0034183656896305727,null,-0.21342749736485073,-0.6270868955929482,null,-0.21342749736485073,-0.9999999999999999,null,-0.4955747707105489,-0.24301879465479,null,-0.4955747707105489,-0.9372138529577394,null,-0.4955747707105489,-0.22805818088363303,null,-0.4955747707105489,-0.9999999999999999,null,-0.46872857463330336,-0.2781184937999877,null,-0.46872857463330336,-0.9525734656054538,null,-0.46872857463330336,-0.9950173010229985,null,-0.46872857463330336,0.18007267917987374,null,0.15592476694609234,-0.46872857463330336,null,0.15592476694609234,-0.2781184937999877,null,0.15592476694609234,0.23455982726261135,null,0.15592476694609234,0.7201831136966704,null,0.3374571806808774,0.19724089203712028,null,0.3374571806808774,-0.26627127779633386,null,0.3374571806808774,0.5749677770531544,null,0.3374571806808774,0.9235407084886236,null,0.3374571806808774,0.5128347211520707,null,-0.14324417844361695,0.14763870543913077,null,-0.14324417844361695,0.3374571806808774,null,-0.14324417844361695,0.021205332740549098,null,-0.14324417844361695,-0.9965444914408504,null,-0.14324417844361695,0.3950136239485626,null,0.3919980174291456,0.15921619976034024,null,0.3919980174291456,0.3374571806808774,null,0.3919980174291456,-0.26627127779633386,null,0.3919980174291456,0.9235407084886236,null,0.3919980174291456,0.9001016215036987,null,0.16510570180715398,0.798954049416799,null,0.16510570180715398,0.9042037578634473,null,0.16510570180715398,0.5172418920993157,null,0.16510570180715398,-0.4070920441247631,null,0.16510570180715398,-0.6702938013075742,null,0.021205332740549098,0.14763870543913077,null,0.021205332740549098,-0.14324417844361695,null,0.021205332740549098,-0.9965444914408504,null,0.021205332740549098,0.8022054534587744,null,0.021205332740549098,0.3950136239485626,null,0.15921619976034024,0.19724089203712028,null,0.15921619976034024,0.3374571806808774,null,0.15921619976034024,-0.26627127779633386,null,0.15921619976034024,0.5749677770531544,null,0.15921619976034024,0.0034183656896305727,null,-0.26627127779633386,-0.46872857463330336,null,-0.26627127779633386,-0.2781184937999877,null,-0.26627127779633386,0.6712304788514862,null,-0.26627127779633386,-0.9525734656054538,null,-0.26627127779633386,-0.8197810592330406,null,0.31473190717719923,0.19724089203712028,null,0.31473190717719923,0.3374571806808774,null,0.31473190717719923,-0.41472826564768334,null,0.31473190717719923,0.8427271017302332,null,0.31473190717719923,0.8821520805607082,null,0.0034183656896305727,0.15921619976034024,null,0.0034183656896305727,0.3374571806808774,null,0.0034183656896305727,-0.26627127779633386,null,0.0034183656896305727,-0.9525734656054538,null,0.0034183656896305727,0.9235407084886236,null,-0.2781184937999877,-0.46872857463330336,null,-0.2781184937999877,-0.9525734656054538,null,-0.2781184937999877,0.23455982726261135,null,-0.2781184937999877,0.10664104539863245,null,-0.2781184937999877,-0.8257372620471022,null],\"y\":[0.02213580922957909,0.06834147800178134,null,0.02213580922957909,0.038089112866421186,null,0.02213580922957909,-0.17782412255229832,null,0.02213580922957909,0.14756064648365877,null,0.02213580922957909,0.09917327031096575,null,0.06834147800178134,0.02213580922957909,null,0.06834147800178134,0.038089112866421186,null,0.06834147800178134,0.14756064648365877,null,0.06834147800178134,0.09917327031096575,null,0.06834147800178134,0.003337951745772416,null,0.038089112866421186,0.02213580922957909,null,0.038089112866421186,0.0792830784682593,null,0.038089112866421186,0.03857867446300272,null,0.038089112866421186,0.1425641441988344,null,0.038089112866421186,-0.04373941261598332,null,-0.17782412255229832,-0.8959898531728645,null,-0.17782412255229832,0.41604115730063895,null,-0.17782412255229832,0.41804727312471135,null,-0.17782412255229832,-0.018912941473839057,null,-0.17782412255229832,-0.9625257394762285,null,0.14756064648365877,0.24891808187684988,null,0.14756064648365877,0.2885053680241979,null,0.14756064648365877,0.004225472489860497,null,0.14756064648365877,-0.012177234771476203,null,0.14756064648365877,0.08879573283289346,null,0.09917327031096575,0.11864411531950031,null,0.09917327031096575,0.24891808187684988,null,0.09917327031096575,-0.4268463713702791,null,0.09917327031096575,0.6794220277387348,null,0.09917327031096575,-0.1384189344453933,null,0.003337951745772416,0.8555226001212684,null,0.003337951745772416,-0.8639266853875771,null,0.003337951745772416,-0.9731694939892662,null,0.003337951745772416,0.5231157032482591,null,0.003337951745772416,0.8041544189695196,null,0.0792830784682593,0.11864411531950031,null,0.0792830784682593,0.6794220277387348,null,0.0792830784682593,-0.05254873781795151,null,0.0792830784682593,-0.6611191090310101,null,0.0792830784682593,0.13729398599666895,null,0.03857867446300272,0.8821519493235035,null,0.03857867446300272,0.3094495633626911,null,0.03857867446300272,-0.9089641440396031,null,0.03857867446300272,0.13729398599666895,null,0.1425641441988344,-0.10132787684845816,null,0.1425641441988344,-0.3929110695528475,null,0.1425641441988344,-0.2161971582211177,null,0.1425641441988344,0.8583583410950016,null,-0.04373941261598332,0.1425641441988344,null,-0.04373941261598332,-0.10132787684845816,null,-0.04373941261598332,-0.921575650495651,null,-0.04373941261598332,0.6928885556156261,null,0.24891808187684988,0.09917327031096575,null,0.24891808187684988,-0.4268463713702791,null,0.24891808187684988,0.6794220277387348,null,0.24891808187684988,0.296366249274533,null,0.24891808187684988,0.8709949530827471,null,0.2885053680241979,0.14756064648365877,null,0.2885053680241979,0.24891808187684988,null,0.2885053680241979,0.08879573283289346,null,0.2885053680241979,-0.04250092695374539,null,0.2885053680241979,0.8343384396272492,null,0.004225472489860497,0.11864411531950031,null,0.004225472489860497,0.24891808187684988,null,0.004225472489860497,-0.4268463713702791,null,0.004225472489860497,0.296366249274533,null,0.004225472489860497,0.13851534955355502,null,-0.012177234771476203,-0.6199138777445115,null,-0.012177234771476203,-0.3063772829872905,null,-0.012177234771476203,-0.8571288066769107,null,-0.012177234771476203,0.8062680647207202,null,-0.012177234771476203,0.6606741821538901,null,0.08879573283289346,0.14756064648365877,null,0.08879573283289346,0.2885053680241979,null,0.08879573283289346,-0.04250092695374539,null,0.08879573283289346,-0.48060540301282983,null,0.08879573283289346,0.8343384396272492,null,0.11864411531950031,0.09917327031096575,null,0.11864411531950031,0.24891808187684988,null,0.11864411531950031,-0.4268463713702791,null,0.11864411531950031,0.6794220277387348,null,0.11864411531950031,-0.05254873781795151,null,-0.4268463713702791,0.1425641441988344,null,-0.4268463713702791,-0.10132787684845816,null,-0.4268463713702791,-0.7597157598001661,null,-0.4268463713702791,-0.3929110695528475,null,-0.4268463713702791,-0.6638304110745376,null,-0.1384189344453933,0.09917327031096575,null,-0.1384189344453933,0.24891808187684988,null,-0.1384189344453933,-0.8512944325312077,null,-0.1384189344453933,0.5079671718624575,null,-0.1384189344453933,-0.18510205280071185,null,-0.05254873781795151,0.11864411531950031,null,-0.05254873781795151,0.24891808187684988,null,-0.05254873781795151,-0.4268463713702791,null,-0.05254873781795151,-0.3929110695528475,null,-0.05254873781795151,0.296366249274533,null,-0.10132787684845816,0.1425641441988344,null,-0.10132787684845816,-0.3929110695528475,null,-0.10132787684845816,-0.921575650495651,null,-0.10132787684845816,0.9658592035159482,null,-0.10132787684845816,-0.5109386371555483,null],\"type\":\"scatter\"},{\"hoverinfo\":\"text\",\"marker\":{\"color\":204,\"colorbar\":{\"thickness\":15,\"title\":{\"text\":\"Node Connections\"}},\"colorscale\":[[0.0,\"rgb(255,255,217)\"],[0.125,\"rgb(237,248,177)\"],[0.25,\"rgb(199,233,180)\"],[0.375,\"rgb(127,205,187)\"],[0.5,\"rgb(65,182,196)\"],[0.625,\"rgb(29,145,192)\"],[0.75,\"rgb(34,94,168)\"],[0.875,\"rgb(37,52,148)\"],[1.0,\"rgb(8,29,88)\"]],\"line\":{\"width\":2},\"showscale\":true,\"size\":10},\"mode\":\"markers\",\"text\":[\"0\",\"1\",\"2\",\"3\",\"4\",\"5\",\"15\",\"11\",\"12\",\"13\",\"14\",\"63\",\"64\",\"65\",\"66\",\"67\",\"7\",\"16\",\"17\",\"18\",\"19\",\"6\",\"8\",\"9\",\"10\",\"20\",\"30\",\"290\",\"21\",\"22\",\"23\",\"24\",\"137\",\"138\",\"139\",\"25\",\"26\",\"260\",\"261\",\"262\",\"140\",\"141\",\"28\",\"29\",\"68\",\"69\",\"70\",\"71\",\"72\",\"73\",\"75\",\"31\",\"32\",\"33\",\"34\",\"35\",\"36\",\"74\",\"77\",\"164\"],\"x\":[0.032458720598839565,-0.0011304146401990712,-0.1929375856148917,0.04910656143714053,0.14763870543913077,0.19724089203712028,-0.1524673952089166,-0.21342749736485073,-0.4955747707105489,-0.46872857463330336,0.15592476694609234,-0.5486416592877525,-0.7670372041687384,0.7579105374378026,0.9390943191945038,-0.05019129781652927,0.3374571806808774,-0.14324417844361695,0.3919980174291456,0.16510570180715398,0.021205332740549098,0.15921619976034024,-0.26627127779633386,0.5749677770531544,0.31473190717719923,0.0034183656896305727,0.9235407084886236,0.5128347211520707,-0.2781184937999877,0.6712304788514862,-0.9525734656054538,-0.8197810592330406,-0.41472826564768334,0.8427271017302332,0.8821520805607082,-0.6270868955929482,-0.9999999999999999,-0.24301879465479,-0.9372138529577394,-0.22805818088363303,-0.9950173010229985,0.18007267917987374,0.23455982726261135,0.7201831136966704,-0.07538365156172505,0.07514622153088478,0.4138201897861175,-0.826946116077845,-0.5308580197133707,-0.9965444914408504,0.3950136239485626,0.9001016215036987,0.798954049416799,0.9042037578634473,0.5172418920993157,-0.4070920441247631,-0.6702938013075742,0.8022054534587744,0.10664104539863245,-0.8257372620471022],\"y\":[0.02213580922957909,0.06834147800178134,0.038089112866421186,-0.17782412255229832,0.14756064648365877,0.09917327031096575,0.003337951745772416,0.0792830784682593,0.03857867446300272,0.1425641441988344,-0.04373941261598332,-0.8959898531728645,0.41604115730063895,0.41804727312471135,-0.018912941473839057,-0.9625257394762285,0.24891808187684988,0.2885053680241979,0.004225472489860497,-0.012177234771476203,0.08879573283289346,0.11864411531950031,-0.4268463713702791,0.6794220277387348,-0.1384189344453933,-0.05254873781795151,0.296366249274533,0.8709949530827471,-0.10132787684845816,-0.7597157598001661,-0.3929110695528475,-0.6638304110745376,-0.8512944325312077,0.5079671718624575,-0.18510205280071185,-0.6611191090310101,0.13729398599666895,0.8821519493235035,0.3094495633626911,-0.9089641440396031,-0.2161971582211177,0.8583583410950016,-0.921575650495651,0.6928885556156261,0.8555226001212684,-0.8639266853875771,-0.9731694939892662,0.5231157032482591,0.8041544189695196,-0.04250092695374539,0.8343384396272492,0.13851534955355502,-0.6199138777445115,-0.3063772829872905,-0.8571288066769107,0.8062680647207202,0.6606741821538901,-0.48060540301282983,0.9658592035159482,-0.5109386371555483],\"type\":\"scatter\"}],                        {\"hovermode\":\"closest\",\"margin\":{\"b\":0,\"l\":0,\"r\":0,\"t\":0},\"showlegend\":false,\"xaxis\":{\"showgrid\":false,\"showticklabels\":false,\"zeroline\":false},\"yaxis\":{\"showgrid\":false,\"showticklabels\":false,\"zeroline\":false},\"template\":{\"data\":{\"histogram2dcontour\":[{\"type\":\"histogram2dcontour\",\"colorbar\":{\"outlinewidth\":0,\"ticks\":\"\"},\"colorscale\":[[0.0,\"#0d0887\"],[0.1111111111111111,\"#46039f\"],[0.2222222222222222,\"#7201a8\"],[0.3333333333333333,\"#9c179e\"],[0.4444444444444444,\"#bd3786\"],[0.5555555555555556,\"#d8576b\"],[0.6666666666666666,\"#ed7953\"],[0.7777777777777778,\"#fb9f3a\"],[0.8888888888888888,\"#fdca26\"],[1.0,\"#f0f921\"]]}],\"choropleth\":[{\"type\":\"choropleth\",\"colorbar\":{\"outlinewidth\":0,\"ticks\":\"\"}}],\"histogram2d\":[{\"type\":\"histogram2d\",\"colorbar\":{\"outlinewidth\":0,\"ticks\":\"\"},\"colorscale\":[[0.0,\"#0d0887\"],[0.1111111111111111,\"#46039f\"],[0.2222222222222222,\"#7201a8\"],[0.3333333333333333,\"#9c179e\"],[0.4444444444444444,\"#bd3786\"],[0.5555555555555556,\"#d8576b\"],[0.6666666666666666,\"#ed7953\"],[0.7777777777777778,\"#fb9f3a\"],[0.8888888888888888,\"#fdca26\"],[1.0,\"#f0f921\"]]}],\"heatmap\":[{\"type\":\"heatmap\",\"colorbar\":{\"outlinewidth\":0,\"ticks\":\"\"},\"colorscale\":[[0.0,\"#0d0887\"],[0.1111111111111111,\"#46039f\"],[0.2222222222222222,\"#7201a8\"],[0.3333333333333333,\"#9c179e\"],[0.4444444444444444,\"#bd3786\"],[0.5555555555555556,\"#d8576b\"],[0.6666666666666666,\"#ed7953\"],[0.7777777777777778,\"#fb9f3a\"],[0.8888888888888888,\"#fdca26\"],[1.0,\"#f0f921\"]]}],\"heatmapgl\":[{\"type\":\"heatmapgl\",\"colorbar\":{\"outlinewidth\":0,\"ticks\":\"\"},\"colorscale\":[[0.0,\"#0d0887\"],[0.1111111111111111,\"#46039f\"],[0.2222222222222222,\"#7201a8\"],[0.3333333333333333,\"#9c179e\"],[0.4444444444444444,\"#bd3786\"],[0.5555555555555556,\"#d8576b\"],[0.6666666666666666,\"#ed7953\"],[0.7777777777777778,\"#fb9f3a\"],[0.8888888888888888,\"#fdca26\"],[1.0,\"#f0f921\"]]}],\"contourcarpet\":[{\"type\":\"contourcarpet\",\"colorbar\":{\"outlinewidth\":0,\"ticks\":\"\"}}],\"contour\":[{\"type\":\"contour\",\"colorbar\":{\"outlinewidth\":0,\"ticks\":\"\"},\"colorscale\":[[0.0,\"#0d0887\"],[0.1111111111111111,\"#46039f\"],[0.2222222222222222,\"#7201a8\"],[0.3333333333333333,\"#9c179e\"],[0.4444444444444444,\"#bd3786\"],[0.5555555555555556,\"#d8576b\"],[0.6666666666666666,\"#ed7953\"],[0.7777777777777778,\"#fb9f3a\"],[0.8888888888888888,\"#fdca26\"],[1.0,\"#f0f921\"]]}],\"surface\":[{\"type\":\"surface\",\"colorbar\":{\"outlinewidth\":0,\"ticks\":\"\"},\"colorscale\":[[0.0,\"#0d0887\"],[0.1111111111111111,\"#46039f\"],[0.2222222222222222,\"#7201a8\"],[0.3333333333333333,\"#9c179e\"],[0.4444444444444444,\"#bd3786\"],[0.5555555555555556,\"#d8576b\"],[0.6666666666666666,\"#ed7953\"],[0.7777777777777778,\"#fb9f3a\"],[0.8888888888888888,\"#fdca26\"],[1.0,\"#f0f921\"]]}],\"mesh3d\":[{\"type\":\"mesh3d\",\"colorbar\":{\"outlinewidth\":0,\"ticks\":\"\"}}],\"scatter\":[{\"fillpattern\":{\"fillmode\":\"overlay\",\"size\":10,\"solidity\":0.2},\"type\":\"scatter\"}],\"parcoords\":[{\"type\":\"parcoords\",\"line\":{\"colorbar\":{\"outlinewidth\":0,\"ticks\":\"\"}}}],\"scatterpolargl\":[{\"type\":\"scatterpolargl\",\"marker\":{\"colorbar\":{\"outlinewidth\":0,\"ticks\":\"\"}}}],\"bar\":[{\"error_x\":{\"color\":\"#2a3f5f\"},\"error_y\":{\"color\":\"#2a3f5f\"},\"marker\":{\"line\":{\"color\":\"#E5ECF6\",\"width\":0.5},\"pattern\":{\"fillmode\":\"overlay\",\"size\":10,\"solidity\":0.2}},\"type\":\"bar\"}],\"scattergeo\":[{\"type\":\"scattergeo\",\"marker\":{\"colorbar\":{\"outlinewidth\":0,\"ticks\":\"\"}}}],\"scatterpolar\":[{\"type\":\"scatterpolar\",\"marker\":{\"colorbar\":{\"outlinewidth\":0,\"ticks\":\"\"}}}],\"histogram\":[{\"marker\":{\"pattern\":{\"fillmode\":\"overlay\",\"size\":10,\"solidity\":0.2}},\"type\":\"histogram\"}],\"scattergl\":[{\"type\":\"scattergl\",\"marker\":{\"colorbar\":{\"outlinewidth\":0,\"ticks\":\"\"}}}],\"scatter3d\":[{\"type\":\"scatter3d\",\"line\":{\"colorbar\":{\"outlinewidth\":0,\"ticks\":\"\"}},\"marker\":{\"colorbar\":{\"outlinewidth\":0,\"ticks\":\"\"}}}],\"scattermapbox\":[{\"type\":\"scattermapbox\",\"marker\":{\"colorbar\":{\"outlinewidth\":0,\"ticks\":\"\"}}}],\"scatterternary\":[{\"type\":\"scatterternary\",\"marker\":{\"colorbar\":{\"outlinewidth\":0,\"ticks\":\"\"}}}],\"scattercarpet\":[{\"type\":\"scattercarpet\",\"marker\":{\"colorbar\":{\"outlinewidth\":0,\"ticks\":\"\"}}}],\"carpet\":[{\"aaxis\":{\"endlinecolor\":\"#2a3f5f\",\"gridcolor\":\"white\",\"linecolor\":\"white\",\"minorgridcolor\":\"white\",\"startlinecolor\":\"#2a3f5f\"},\"baxis\":{\"endlinecolor\":\"#2a3f5f\",\"gridcolor\":\"white\",\"linecolor\":\"white\",\"minorgridcolor\":\"white\",\"startlinecolor\":\"#2a3f5f\"},\"type\":\"carpet\"}],\"table\":[{\"cells\":{\"fill\":{\"color\":\"#EBF0F8\"},\"line\":{\"color\":\"white\"}},\"header\":{\"fill\":{\"color\":\"#C8D4E3\"},\"line\":{\"color\":\"white\"}},\"type\":\"table\"}],\"barpolar\":[{\"marker\":{\"line\":{\"color\":\"#E5ECF6\",\"width\":0.5},\"pattern\":{\"fillmode\":\"overlay\",\"size\":10,\"solidity\":0.2}},\"type\":\"barpolar\"}],\"pie\":[{\"automargin\":true,\"type\":\"pie\"}]},\"layout\":{\"autotypenumbers\":\"strict\",\"colorway\":[\"#636efa\",\"#EF553B\",\"#00cc96\",\"#ab63fa\",\"#FFA15A\",\"#19d3f3\",\"#FF6692\",\"#B6E880\",\"#FF97FF\",\"#FECB52\"],\"font\":{\"color\":\"#2a3f5f\"},\"hovermode\":\"closest\",\"hoverlabel\":{\"align\":\"left\"},\"paper_bgcolor\":\"white\",\"plot_bgcolor\":\"#E5ECF6\",\"polar\":{\"bgcolor\":\"#E5ECF6\",\"angularaxis\":{\"gridcolor\":\"white\",\"linecolor\":\"white\",\"ticks\":\"\"},\"radialaxis\":{\"gridcolor\":\"white\",\"linecolor\":\"white\",\"ticks\":\"\"}},\"ternary\":{\"bgcolor\":\"#E5ECF6\",\"aaxis\":{\"gridcolor\":\"white\",\"linecolor\":\"white\",\"ticks\":\"\"},\"baxis\":{\"gridcolor\":\"white\",\"linecolor\":\"white\",\"ticks\":\"\"},\"caxis\":{\"gridcolor\":\"white\",\"linecolor\":\"white\",\"ticks\":\"\"}},\"coloraxis\":{\"colorbar\":{\"outlinewidth\":0,\"ticks\":\"\"}},\"colorscale\":{\"sequential\":[[0.0,\"#0d0887\"],[0.1111111111111111,\"#46039f\"],[0.2222222222222222,\"#7201a8\"],[0.3333333333333333,\"#9c179e\"],[0.4444444444444444,\"#bd3786\"],[0.5555555555555556,\"#d8576b\"],[0.6666666666666666,\"#ed7953\"],[0.7777777777777778,\"#fb9f3a\"],[0.8888888888888888,\"#fdca26\"],[1.0,\"#f0f921\"]],\"sequentialminus\":[[0.0,\"#0d0887\"],[0.1111111111111111,\"#46039f\"],[0.2222222222222222,\"#7201a8\"],[0.3333333333333333,\"#9c179e\"],[0.4444444444444444,\"#bd3786\"],[0.5555555555555556,\"#d8576b\"],[0.6666666666666666,\"#ed7953\"],[0.7777777777777778,\"#fb9f3a\"],[0.8888888888888888,\"#fdca26\"],[1.0,\"#f0f921\"]],\"diverging\":[[0,\"#8e0152\"],[0.1,\"#c51b7d\"],[0.2,\"#de77ae\"],[0.3,\"#f1b6da\"],[0.4,\"#fde0ef\"],[0.5,\"#f7f7f7\"],[0.6,\"#e6f5d0\"],[0.7,\"#b8e186\"],[0.8,\"#7fbc41\"],[0.9,\"#4d9221\"],[1,\"#276419\"]]},\"xaxis\":{\"gridcolor\":\"white\",\"linecolor\":\"white\",\"ticks\":\"\",\"title\":{\"standoff\":15},\"zerolinecolor\":\"white\",\"automargin\":true,\"zerolinewidth\":2},\"yaxis\":{\"gridcolor\":\"white\",\"linecolor\":\"white\",\"ticks\":\"\",\"title\":{\"standoff\":15},\"zerolinecolor\":\"white\",\"automargin\":true,\"zerolinewidth\":2},\"scene\":{\"xaxis\":{\"backgroundcolor\":\"#E5ECF6\",\"gridcolor\":\"white\",\"linecolor\":\"white\",\"showbackground\":true,\"ticks\":\"\",\"zerolinecolor\":\"white\",\"gridwidth\":2},\"yaxis\":{\"backgroundcolor\":\"#E5ECF6\",\"gridcolor\":\"white\",\"linecolor\":\"white\",\"showbackground\":true,\"ticks\":\"\",\"zerolinecolor\":\"white\",\"gridwidth\":2},\"zaxis\":{\"backgroundcolor\":\"#E5ECF6\",\"gridcolor\":\"white\",\"linecolor\":\"white\",\"showbackground\":true,\"ticks\":\"\",\"zerolinecolor\":\"white\",\"gridwidth\":2}},\"shapedefaults\":{\"line\":{\"color\":\"#2a3f5f\"}},\"annotationdefaults\":{\"arrowcolor\":\"#2a3f5f\",\"arrowhead\":0,\"arrowwidth\":1},\"geo\":{\"bgcolor\":\"white\",\"landcolor\":\"#E5ECF6\",\"subunitcolor\":\"white\",\"showland\":true,\"showlakes\":true,\"lakecolor\":\"white\"},\"title\":{\"x\":0.05},\"mapbox\":{\"style\":\"light\"}}}},                        {\"responsive\": true}                    ).then(function(){\n",
              "                            \n",
              "var gd = document.getElementById('bcce0611-0a50-4d7e-a632-f210d3219b1a');\n",
              "var x = new MutationObserver(function (mutations, observer) {{\n",
              "        var display = window.getComputedStyle(gd).display;\n",
              "        if (!display || display === 'none') {{\n",
              "            console.log([gd, 'removed!']);\n",
              "            Plotly.purge(gd);\n",
              "            observer.disconnect();\n",
              "        }}\n",
              "}});\n",
              "\n",
              "// Listen for the removal of the full notebook cells\n",
              "var notebookContainer = gd.closest('#notebook-container');\n",
              "if (notebookContainer) {{\n",
              "    x.observe(notebookContainer, {childList: true});\n",
              "}}\n",
              "\n",
              "// Listen for the clearing of the current output cell\n",
              "var outputEl = gd.closest('.output');\n",
              "if (outputEl) {{\n",
              "    x.observe(outputEl, {childList: true});\n",
              "}}\n",
              "\n",
              "                        })                };                            </script>        </div>\n",
              "</body>\n",
              "</html>"
            ]
          },
          "metadata": {}
        }
      ]
    },
    {
      "cell_type": "code",
      "source": [
        "# Tạo biểu đồ phân cụm\n",
        "pos = nx.spring_layout(G)  # Sắp xếp lại vị trí các đỉnh trong biểu đồ\n",
        "\n",
        "# Vẽ các đỉnh và cạnh\n",
        "for i, community in enumerate(communities):\n",
        "    nx.draw_networkx_nodes(G, pos, nodelist=community, node_size=100, label=f'Cluster {i + 1}')\n",
        "    nx.draw_networkx_labels(G, pos, labels={node: node for node in community}, font_size=10)\n",
        "    if i > 0:\n",
        "        edges_in_community = G.subgraph(community).edges()\n",
        "        nx.draw_networkx_edges(G, pos, edgelist=edges_in_community, width=1)\n",
        "\n",
        "plt.title(\"Biểu đồ phân cụm của mạng xã hội\")\n",
        "plt.axis('off')\n",
        "plt.show()"
      ],
      "metadata": {
        "colab": {
          "base_uri": "https://localhost:8080/",
          "height": 431
        },
        "id": "9PMRFo3CXXEo",
        "outputId": "d0ef275a-48e5-4f08-ddf6-35466ba55be3"
      },
      "execution_count": null,
      "outputs": [
        {
          "output_type": "display_data",
          "data": {
            "text/plain": [
              "<Figure size 640x480 with 1 Axes>"
            ],
            "image/png": "[encoded data removed]"
          },
          "metadata": {}
        }
      ]
    }
  ],
  "metadata": {
    "colab": {
      "provenance": [],
      "collapsed_sections": [
        "Kj1bVv9RQP_I",
        "ELUeArBmQZkE",
        "nRgvkviRQza6",
        "sDiRJRz6RFj1",
        "KWtzgj8jRJVK",
        "JOeP_ZBjRoXZ"
      ],
      "authorship_tag": "ABX9TyNTHCG1sSTU1/gFU3OkSeI0",
      "include_colab_link": true
    },
    "kernelspec": {
      "display_name": "Python 3",
      "name": "python3"
    },
    "language_info": {
      "name": "python"
    }
  },
  "nbformat": 4,
  "nbformat_minor": 0
}